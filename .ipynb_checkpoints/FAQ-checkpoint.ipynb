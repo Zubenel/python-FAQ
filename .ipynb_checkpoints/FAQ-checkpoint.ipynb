{
 "cells": [
  {
   "cell_type": "markdown",
   "id": "2f5745c9",
   "metadata": {},
   "source": [
    "# How to import files from different folder?"
   ]
  },
  {
   "cell_type": "markdown",
   "id": "ffa988e5",
   "metadata": {},
   "source": [
    "References:\n",
    "* https://stackoverflow.com/questions/4383571/importing-files-from-different-folder\n",
    "* https://linuxize.com/post/python-get-change-current-working-directory/\n",
    "* https://www.geeksforgeeks.org/python-import-module-from-different-directory/"
   ]
  },
  {
   "cell_type": "markdown",
   "id": "52217a25",
   "metadata": {},
   "source": [
    "Problem statement"
   ]
  },
  {
   "cell_type": "raw",
   "id": "2c5a569b",
   "metadata": {},
   "source": [
    "Given the next folder structure:\n",
    "\n",
    "application\n",
    "    ├── app1\n",
    "    │    └── folder1\n",
    "    │         └── file1.py\n",
    "    └── app2\n",
    "         └── folder2\n",
    "              └── file2.py\n",
    "              \n",
    "from file1 import a function defined in file 2"
   ]
  },
  {
   "cell_type": "markdown",
   "id": "efb6b899",
   "metadata": {},
   "source": [
    "Solution:"
   ]
  },
  {
   "cell_type": "raw",
   "id": "508a250c",
   "metadata": {},
   "source": [
    "# Add the target folder to path\n",
    "import sys\n",
    "sys.path.insert(0, '/Users/user/Documents/GitHub/application/folder2')\n",
    "\n",
    "# import your function\n",
    "from file2 import some_function"
   ]
  },
  {
   "cell_type": "markdown",
   "id": "0f782dd8",
   "metadata": {},
   "source": [
    "Aids\n"
   ]
  },
  {
   "cell_type": "raw",
   "id": "0edf47f1",
   "metadata": {},
   "source": [
    "# Move your working directory to the target folder and try to import the file directly\n",
    "# Check issues related to the files or function names"
   ]
  },
  {
   "cell_type": "raw",
   "id": "88c3a727",
   "metadata": {},
   "source": [
    "# Check your working directory\n",
    "import os\n",
    "os.getcwd()"
   ]
  },
  {
   "cell_type": "raw",
   "id": "ba5bdc56",
   "metadata": {},
   "source": [
    "# Move your working directory to the previous folder\n",
    "os.chdir('../')"
   ]
  },
  {
   "cell_type": "code",
   "execution_count": null,
   "id": "6f452ee0",
   "metadata": {},
   "outputs": [],
   "source": []
  }
 ],
 "metadata": {
  "kernelspec": {
   "display_name": "Python 3 (ipykernel)",
   "language": "python",
   "name": "python3"
  },
  "language_info": {
   "codemirror_mode": {
    "name": "ipython",
    "version": 3
   },
   "file_extension": ".py",
   "mimetype": "text/x-python",
   "name": "python",
   "nbconvert_exporter": "python",
   "pygments_lexer": "ipython3",
   "version": "3.8.8"
  }
 },
 "nbformat": 4,
 "nbformat_minor": 5
}
