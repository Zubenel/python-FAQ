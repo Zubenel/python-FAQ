{
 "cells": [
  {
   "cell_type": "markdown",
   "id": "89256344",
   "metadata": {},
   "source": [
    "# How to import files from different folder?"
   ]
  },
  {
   "cell_type": "markdown",
   "id": "ce40d80f",
   "metadata": {},
   "source": [
    "References:\n",
    "* https://stackoverflow.com/questions/4383571/importing-files-from-different-folder\n",
    "* https://linuxize.com/post/python-get-change-current-working-directory/\n",
    "* https://www.geeksforgeeks.org/python-import-module-from-different-directory/"
   ]
  },
  {
   "cell_type": "markdown",
   "id": "92c02411",
   "metadata": {},
   "source": [
    "Problem statement"
   ]
  },
  {
   "cell_type": "raw",
   "id": "5e2d57af",
   "metadata": {},
   "source": [
    "Given the next folder structure:\n",
    "\n",
    "application\n",
    "    ├── app1\n",
    "    │    └── folder1\n",
    "    │         └── file1.py\n",
    "    └── app2\n",
    "         └── folder2\n",
    "              └── file2.py\n",
    "              \n",
    "from file1 import a function defined in file 2"
   ]
  },
  {
   "cell_type": "markdown",
   "id": "a8b4b773",
   "metadata": {},
   "source": [
    "Solution:"
   ]
  },
  {
   "cell_type": "raw",
   "id": "ef13dfef",
   "metadata": {},
   "source": [
    "# Add the target folder to path\n",
    "import sys\n",
    "sys.path.insert(0, '/Users/user/Documents/GitHub/application/folder2')\n",
    "\n",
    "# import your function\n",
    "from file2 import some_function"
   ]
  },
  {
   "cell_type": "markdown",
   "id": "4cbb02b3",
   "metadata": {},
   "source": [
    "Aids\n"
   ]
  },
  {
   "cell_type": "raw",
   "id": "e5c08cd9",
   "metadata": {},
   "source": [
    "# Move your working directory to the target folder and try to import the file directly\n",
    "# Check issues related to the files or function names"
   ]
  },
  {
   "cell_type": "raw",
   "id": "3c1a3fce",
   "metadata": {},
   "source": [
    "# Check your working directory\n",
    "import os\n",
    "os.getcwd()"
   ]
  },
  {
   "cell_type": "raw",
   "id": "d5e8bfc6",
   "metadata": {},
   "source": [
    "# Move your working directory to the previous folder\n",
    "os.chdir('../')"
   ]
  },
  {
   "cell_type": "code",
   "execution_count": null,
   "id": "61bc1cf9",
   "metadata": {},
   "outputs": [],
   "source": []
  }
 ],
 "metadata": {
  "kernelspec": {
   "display_name": "Python 3 (ipykernel)",
   "language": "python",
   "name": "python3"
  },
  "language_info": {
   "codemirror_mode": {
    "name": "ipython",
    "version": 3
   },
   "file_extension": ".py",
   "mimetype": "text/x-python",
   "name": "python",
   "nbconvert_exporter": "python",
   "pygments_lexer": "ipython3",
   "version": "3.8.8"
  }
 },
 "nbformat": 4,
 "nbformat_minor": 5
}
